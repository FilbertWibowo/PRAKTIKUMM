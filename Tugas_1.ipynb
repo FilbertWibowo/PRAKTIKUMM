{
  "nbformat": 4,
  "nbformat_minor": 0,
  "metadata": {
    "colab": {
      "provenance": [],
      "authorship_tag": "ABX9TyOhYW+OPCgKuIEvvQKDWbvd",
      "include_colab_link": true
    },
    "kernelspec": {
      "name": "python3",
      "display_name": "Python 3"
    },
    "language_info": {
      "name": "python"
    }
  },
  "cells": [
    {
      "cell_type": "markdown",
      "metadata": {
        "id": "view-in-github",
        "colab_type": "text"
      },
      "source": [
        "<a href=\"https://colab.research.google.com/github/FilbertWibowo/PRAKTIKUMM/blob/main/Tugas_1.ipynb\" target=\"_parent\"><img src=\"https://colab.research.google.com/assets/colab-badge.svg\" alt=\"Open In Colab\"/></a>"
      ]
    },
    {
      "cell_type": "code",
      "execution_count": null,
      "metadata": {
        "colab": {
          "base_uri": "https://localhost:8080/"
        },
        "id": "Mrps6mcV7pn2",
        "outputId": "16555921-a652-4db7-dcfa-510f0b2e847e"
      },
      "outputs": [
        {
          "output_type": "stream",
          "name": "stdout",
          "text": [
            "Nama: Filbert Wibowo\n",
            "Program Studi: Teknologi informasi\n",
            "NPM: 2440506049\n",
            "Alamat: Tambakan,Sedayu,Muntilan\n",
            "Hobi: Baca Buku\n",
            "Email: filbert@gmail.com\n"
          ]
        }
      ],
      "source": [
        "with open(\"biodata.txt\", \"r\") as file1:\n",
        "    print(file1.read())"
      ]
    },
    {
      "cell_type": "code",
      "source": [
        "with open(\"biodata.txt\", \"r\") as file1:\n",
        "    print(file1.read(55))\n",
        "    print(\"Email: filbert@gmail.com \" + file1.readline())\n"
      ],
      "metadata": {
        "colab": {
          "base_uri": "https://localhost:8080/"
        },
        "id": "wagapV5y8TTj",
        "outputId": "bfc0a239-3ea6-46e2-b79e-020b06d9a3ad"
      },
      "execution_count": null,
      "outputs": [
        {
          "output_type": "stream",
          "name": "stdout",
          "text": [
            "Nama: Filbert Wibowo\n",
            "Program Studi: Teknologi informasi\n",
            "Email: filbert@gmail.com \n",
            "\n"
          ]
        }
      ]
    },
    {
      "cell_type": "code",
      "source": [
        "with open('biodata.txt','r') as readfile:\n",
        "    with open('biodata2.txt','w') as writefile:\n",
        "          for line in readfile:\n",
        "                writefile.write(line)"
      ],
      "metadata": {
        "id": "31ZTcATVGqup"
      },
      "execution_count": null,
      "outputs": []
    },
    {
      "cell_type": "code",
      "source": [
        "with open('biodata2.txt','r') as testwritefile:\n",
        "    print(testwritefile.read(105))"
      ],
      "metadata": {
        "colab": {
          "base_uri": "https://localhost:8080/"
        },
        "id": "EcRMHbW4G_0Q",
        "outputId": "ac92658f-1c49-4c65-f7a2-db7a061e3cdf"
      },
      "execution_count": null,
      "outputs": [
        {
          "output_type": "stream",
          "name": "stdout",
          "text": [
            "Nama: Filbert Wibowo\n",
            "Program Studi: Teknologi informasi\n",
            "NPM: 2440506049\n",
            "Alamat: Tambakan,Sedayu,Muntilan\n",
            "\n"
          ]
        }
      ]
    }
  ]
}
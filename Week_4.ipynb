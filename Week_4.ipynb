{
  "nbformat": 4,
  "nbformat_minor": 0,
  "metadata": {
    "colab": {
      "provenance": [],
      "authorship_tag": "ABX9TyMpX14dundkOWu9KKYO/Pbr",
      "include_colab_link": true
    },
    "kernelspec": {
      "name": "python3",
      "display_name": "Python 3"
    },
    "language_info": {
      "name": "python"
    }
  },
  "cells": [
    {
      "cell_type": "markdown",
      "metadata": {
        "id": "view-in-github",
        "colab_type": "text"
      },
      "source": [
        "<a href=\"https://colab.research.google.com/github/FilbertWibowo/PRAKTIKUMM/blob/main/Week_4.ipynb\" target=\"_parent\"><img src=\"https://colab.research.google.com/assets/colab-badge.svg\" alt=\"Open In Colab\"/></a>"
      ]
    },
    {
      "cell_type": "code",
      "source": [
        "umur = int(input(\"Masukkan umur: \"))\n",
        "\n",
        "if umur >= 17:\n",
        "    print (\"boleh membuat SIM\")\n",
        "else:\n",
        "    print(\"Tidak boleh membuat SIM\")"
      ],
      "metadata": {
        "colab": {
          "base_uri": "https://localhost:8080/"
        },
        "id": "VUIDzxsrySj-",
        "outputId": "b8c78e6d-a7ff-474f-8b14-c8e710b764dd"
      },
      "execution_count": null,
      "outputs": [
        {
          "output_type": "stream",
          "name": "stdout",
          "text": [
            "Masukkan umur: 13\n",
            "Tidak boleh membuat SIM\n"
          ]
        }
      ]
    },
    {
      "cell_type": "code",
      "source": [
        "nilai = int(input(\"Masukkan nilai: \"))\n",
        "\n",
        "if nilai >= 90:\n",
        "    print(\"A\")\n",
        "elif nilai >= 80:\n",
        "    print(\"B+\")\n",
        "elif nilai >= 70:\n",
        "    print(\"B\")\n",
        "elif nilai >= 60:\n",
        "    print(\"C+\")\n",
        "elif nilai >= 50:\n",
        "    print(\"C\")\n",
        "elif nilai >= 40:\n",
        "    print(\"D\")\n",
        "else:\n",
        "    print(\"E\")\n",
        "\n"
      ],
      "metadata": {
        "colab": {
          "base_uri": "https://localhost:8080/"
        },
        "id": "RGyGEWXw7ijY",
        "outputId": "36bb1499-9127-41a5-d1ec-85c636fc5ae4"
      },
      "execution_count": null,
      "outputs": [
        {
          "output_type": "stream",
          "name": "stdout",
          "text": [
            "Masukkan nilai: 55\n",
            "C\n"
          ]
        }
      ]
    },
    {
      "cell_type": "code",
      "source": [
        "nilai = int(input(\"Masukkan nilai: \"))\n",
        "\n",
        "if 80 <= nilai <= 100:\n",
        "    print(\"A\")\n",
        "elif 77.5 <= nilai <= 79.99:\n",
        "    print(\"A-\")\n",
        "elif 75.00 <= nilai <= 77.49:\n",
        "    print(\"A/B\")\n",
        "elif 72.50 <= nilai <= 74.99:\n",
        "    print(\"B+\")\n",
        "elif 70.00 <= nilai <= 72.49:\n",
        "    print(\"B\")\n",
        "elif 67.50 <= nilai <= 69.99:\n",
        "    print(\"B-\")\n",
        "elif 65.00 <= nilai <= 67.49:\n",
        "    print(\"B/C\")\n",
        "elif 62.50 <= nilai <= 64.99:\n",
        "    print(\"C+\")\n",
        "elif 60.00 <= nilai <= 62.49:\n",
        "    print(\"C\")\n",
        "elif 55.00 <= nilai <= 59.99:\n",
        "    print(\"C-\")\n",
        "elif 50.00 <= nilai <= 54.99:\n",
        "    print(\"C/D\")\n",
        "elif 45.00 <= nilai <= 49.99:\n",
        "    print(\"D+\")\n",
        "elif 40.00 <= nilai <= 44.99:\n",
        "    print(\"D\")\n",
        "\n",
        "else:\n",
        "    print(\"E\")"
      ],
      "metadata": {
        "colab": {
          "base_uri": "https://localhost:8080/"
        },
        "id": "H7vTxGWW4T3m",
        "outputId": "3dece967-809e-4098-a69e-7701479dfda5"
      },
      "execution_count": null,
      "outputs": [
        {
          "output_type": "stream",
          "name": "stdout",
          "text": [
            "Masukkan nilai: 57\n",
            "C-\n"
          ]
        }
      ]
    }
  ]
}